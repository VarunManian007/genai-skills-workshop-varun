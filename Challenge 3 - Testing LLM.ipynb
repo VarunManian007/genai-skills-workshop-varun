{
  "cells": [
    {
      "cell_type": "markdown",
      "source": [
        "## Install required dependency and SDK"
      ],
      "metadata": {
        "id": "U_A1AHjY8oSO"
      },
      "id": "U_A1AHjY8oSO"
    },
    {
      "cell_type": "code",
      "id": "v29ssGoIzhQOXt86azCI1pPD",
      "metadata": {
        "tags": [],
        "id": "v29ssGoIzhQOXt86azCI1pPD"
      },
      "source": [
        "!pip install -q google-cloud-aiplatform pytest"
      ],
      "execution_count": 104,
      "outputs": []
    },
    {
      "cell_type": "markdown",
      "source": [
        "## Create the environment for the notebook\n",
        "Import Dependencies and Initialize Vertex AI"
      ],
      "metadata": {
        "id": "07bwDSRW9AID"
      },
      "id": "07bwDSRW9AID"
    },
    {
      "cell_type": "code",
      "source": [
        "from vertexai.language_models import ChatModel, InputOutputTextPair\n",
        "from vertexai.preview.language_models import TextGenerationModel\n",
        "import vertexai\n",
        "\n",
        "PROJECT_ID = \"qwiklabs-gcp-04-d9bb68112d04\"\n",
        "LOCATION = \"global\"\n",
        "\n",
        "vertexai.init(project=PROJECT_ID, location=LOCATION)"
      ],
      "metadata": {
        "id": "HHkYm7Ir83rr"
      },
      "id": "HHkYm7Ir83rr",
      "execution_count": 105,
      "outputs": []
    },
    {
      "cell_type": "markdown",
      "source": [
        "## Function 1: Classify the Topic\n",
        "\n",
        "1. Created a function which will classify the message based on the following category\n",
        "  1. Employment\n",
        "  2. General Information\n",
        "  3. Emergency Services\n",
        "  4. Tax Related\n",
        "  5. Non-Government Questions"
      ],
      "metadata": {
        "id": "7_p79BT-J_rE"
      },
      "id": "7_p79BT-J_rE"
    },
    {
      "cell_type": "code",
      "source": [
        "%%writefile gov_functions.py\n",
        "from vertexai.preview.generative_models import GenerativeModel\n",
        "chat_model = GenerativeModel(\"gemini-2.0-flash-001\")\n",
        "\n",
        "def classify_government_message(question: str) -> str:\n",
        "    prompt = f\"\"\"You are an AI assistant trained to classify questions related to **government services** into one of the following categories:\n",
        "\n",
        "      - Employment\n",
        "      - General Information\n",
        "      - Emergency Services\n",
        "      - Tax Related\n",
        "\n",
        "      If the question is not about a government-related topic, respond with: **Non-Government questions**\n",
        "\n",
        "      Respond **only with one of the following**: \"Employment\", \"General Information\", \"Emergency Services\", \"Tax Related\", or \"Non-Government questions\".\n",
        "\n",
        "      Question: {question}\"\"\"\n",
        "\n",
        "    response = chat_model.generate_content(prompt)\n",
        "    return response.text.strip()"
      ],
      "metadata": {
        "colab": {
          "base_uri": "https://localhost:8080/"
        },
        "id": "09EIRK7H-f5o",
        "outputId": "84d9f00c-9d99-4898-8515-ddbfd793db4d"
      },
      "id": "09EIRK7H-f5o",
      "execution_count": 106,
      "outputs": [
        {
          "output_type": "stream",
          "name": "stdout",
          "text": [
            "Overwriting gov_functions.py\n"
          ]
        }
      ]
    },
    {
      "cell_type": "markdown",
      "source": [
        "# Test case for Classify the Topic -  Function 1"
      ],
      "metadata": {
        "id": "II2qCj9wKeqG"
      },
      "id": "II2qCj9wKeqG"
    },
    {
      "cell_type": "code",
      "source": [
        "import pytest\n",
        "from gov_functions import classify_government_message\n",
        "\n",
        "def test_employment():\n",
        "    response = classify_government_message(\"How can I apply for a job in the public sector?\")\n",
        "    assert response == \"Employment\"\n",
        "    print(\"test_employment passed.\")\n",
        "\n",
        "def test_emergency_services():\n",
        "    response = classify_government_message(\"There's a fire in my neighborhood. What do I do?\")\n",
        "    assert response == \"Emergency Services\"\n",
        "    print(\"test_emergency_services passed.\")\n",
        "\n",
        "def test_tax_related():\n",
        "    response = classify_government_message(\"When do I need to file my income taxes?\")\n",
        "    assert response == \"Tax Related\"\n",
        "    print(\"test_tax_related passed.\")\n",
        "\n",
        "def test_general_information():\n",
        "    response = classify_government_message(\"Where is my nearest DMV office?\")\n",
        "    assert response == \"General Information\"\n",
        "    print(\"test_general_information passed.\")\n",
        "\n",
        "def test_non_government():\n",
        "    response = classify_government_message(\"What’s the best laptop under $1000?\")\n",
        "    assert response == \"Non-Government questions\"\n",
        "    print(\"test_non_government passed.\")\n",
        "\n",
        "test_employment()\n",
        "test_emergency_services()\n",
        "test_tax_related()\n",
        "test_general_information()\n",
        "test_non_government()\n"
      ],
      "metadata": {
        "colab": {
          "base_uri": "https://localhost:8080/"
        },
        "id": "wYsfhiw4AyIB",
        "outputId": "f08576eb-8e5c-4ef2-e79d-69b8917cf157"
      },
      "id": "wYsfhiw4AyIB",
      "execution_count": 107,
      "outputs": [
        {
          "output_type": "stream",
          "name": "stdout",
          "text": [
            "test_employment passed.\n",
            "test_emergency_services passed.\n",
            "test_tax_related passed.\n",
            "test_general_information passed.\n",
            "test_non_government passed.\n"
          ]
        }
      ]
    },
    {
      "cell_type": "markdown",
      "source": [
        "## Function 2: Create a Government Post\n",
        "\n",
        "1. generate_social_post - will generate a post based on the event specified.\n",
        "2. evaluate_generated_post - will give score for the generated post and the reference provided(dataset) between 1-5."
      ],
      "metadata": {
        "id": "oAgpZ02CKsiS"
      },
      "id": "oAgpZ02CKsiS"
    },
    {
      "cell_type": "code",
      "source": [
        "%%writefile gov_posting_functions.py\n",
        "from vertexai.preview.generative_models import GenerativeModel\n",
        "\n",
        "# Initialize the Gemini model once\n",
        "chat_model = GenerativeModel(\"gemini-2.0-flash-001\")\n",
        "\n",
        "def generate_social_post(event: str) -> str:\n",
        "    prompt = f\"\"\"\n",
        "    You are a helpful government assistant. Write a short, friendly, informative social media post (under 280 characters) about this announcement:\n",
        "    Event: {event}\n",
        "    \"\"\"\n",
        "    response = chat_model.generate_content(prompt)\n",
        "    return response.text.strip()\n",
        "\n",
        "def evaluate_generated_post(event: str, generated: str, reference: str) -> str:\n",
        "    prompt = f\"\"\"\n",
        "    You are an impartial evaluator.\n",
        "\n",
        "    Event: {event}\n",
        "\n",
        "    Generated Post:\n",
        "    {generated}\n",
        "\n",
        "    Reference Post:\n",
        "    {reference}\n",
        "\n",
        "    Rate the generated post on a scale of 1 to 5 for clarity, relevance, tone, and informativeness.\n",
        "    Just return the number only.\n",
        "    \"\"\"\n",
        "    response = chat_model.generate_content(prompt)\n",
        "    return response.text.strip()\n"
      ],
      "metadata": {
        "colab": {
          "base_uri": "https://localhost:8080/"
        },
        "id": "2BTKYCY6CzNC",
        "outputId": "3ffe4eda-ad07-420e-eaaf-bdaad346a9d0"
      },
      "id": "2BTKYCY6CzNC",
      "execution_count": 108,
      "outputs": [
        {
          "output_type": "stream",
          "name": "stdout",
          "text": [
            "Overwriting gov_posting_functions.py\n"
          ]
        }
      ]
    },
    {
      "cell_type": "markdown",
      "source": [
        "# Test case for Create a Government Post  -  Function 2\n",
        "\n",
        "1. Here I have used Google Evaluation API to verify the LLM generated response score with the refernce one and how suitable the reference is."
      ],
      "metadata": {
        "id": "ZZAi76m0LLdQ"
      },
      "id": "ZZAi76m0LLdQ"
    },
    {
      "cell_type": "code",
      "source": [
        "import pytest\n",
        "from gov_posting_functions import generate_social_post, evaluate_generated_post\n",
        "\n",
        "def test_generate_social_post_with_evaluation():\n",
        "    event = \"City Hall will be closed on July 4th\"\n",
        "    reference_post = \"Reminder: City Hall will be closed on July 4th in observance of Independence Day\"\n",
        "\n",
        "    generated_post = generate_social_post(event)\n",
        "    print(\"Generated:\", generated_post)\n",
        "\n",
        "    score = evaluate_generated_post(event, generated_post, reference_post)\n",
        "    print(\"LLM-Evaluated Score:\", score)\n",
        "\n",
        "    assert generated_post is not None\n",
        "    assert isinstance(generated_post, str)\n",
        "    assert len(generated_post) <= 280\n",
        "\n",
        "    assert score.isdigit()\n",
        "    assert 1 <= int(score) <= 5\n",
        "    assert int(score) >= 4\n",
        "\n",
        "def test_generate_social_post_weather_alert():\n",
        "    event = \"Severe thunderstorm expected in Dallas tomorrow evening\"\n",
        "    reference_post = \"Severe thunderstorm alert: Dallas residents should stay indoors tomorrow evening.\"\n",
        "\n",
        "    generated_post = generate_social_post(event)\n",
        "    print(\"Generated:\", generated_post)\n",
        "\n",
        "    score = evaluate_generated_post(event, generated_post, reference_post)\n",
        "    print(\"LLM-Evaluated Score:\", score)\n",
        "\n",
        "    assert generated_post is not None\n",
        "    assert isinstance(generated_post, str)\n",
        "    assert len(generated_post) <= 280\n",
        "    assert score.isdigit()\n",
        "    assert 1 <= int(score) <= 5\n",
        "    assert int(score) >= 4\n",
        "\n",
        "\n",
        "def test_evaluate_poor_quality_post():\n",
        "    event = \"Power outage scheduled for maintenance on Sunday\"\n",
        "    bad_post = \"power. no lights. sunday.\"\n",
        "    reference_post = \"Scheduled power outage this Sunday for maintenance. Please plan accordingly.\"\n",
        "\n",
        "    score = evaluate_generated_post(event, bad_post, reference_post)\n",
        "    print(\"Bad Post:\", bad_post)\n",
        "    print(\"LLM-Evaluated Score:\", score)\n",
        "\n",
        "    assert score.isdigit()\n",
        "    score_int = int(score)\n",
        "    assert 1 <= score_int <= 5\n",
        "    assert score_int < 4\n",
        "\n",
        "test_generate_social_post_with_evaluation()\n",
        "test_generate_social_post_weather_alert()\n",
        "test_evaluate_poor_quality_post()\n"
      ],
      "metadata": {
        "colab": {
          "base_uri": "https://localhost:8080/"
        },
        "id": "zW0HsLMUC8L-",
        "outputId": "78096d6f-e7d0-43bb-8640-b9efb364ede7"
      },
      "id": "zW0HsLMUC8L-",
      "execution_count": 109,
      "outputs": [
        {
          "output_type": "stream",
          "name": "stdout",
          "text": [
            "Generated: Heads up! 🇺🇸 City Hall will be closed on July 4th for Independence Day. Have a safe and happy holiday! ✨\n",
            "LLM-Evaluated Score: 4\n",
            "Generated: Heads up, Dallas! ⛈️ A severe thunderstorm is expected tomorrow evening. Stay safe, monitor weather updates, and have a plan in case of power outages! #DallasWeather #SevereWeather\n",
            "LLM-Evaluated Score: 4\n",
            "Bad Post: power. no lights. sunday.\n",
            "LLM-Evaluated Score: 2\n"
          ]
        }
      ]
    },
    {
      "cell_type": "markdown",
      "source": [
        "# Test case for Create a Government Post  -  Function 2\n",
        "\n",
        "1. Here I have used Google Evaluation API to verify the LLM generated response score with the refernce one and how suitable the reference is from\n",
        "https://cloud.google.com/vertex-ai/generative-ai/docs/model-reference/evaluation"
      ],
      "metadata": {
        "id": "Wb84s34QbJt1"
      },
      "id": "Wb84s34QbJt1"
    },
    {
      "cell_type": "code",
      "source": [
        "import pytest\n",
        "import vertexai\n",
        "from vertexai.preview.generative_models import GenerativeModel\n",
        "from vertexai.evaluation import EvalTask, PointwiseMetric, MetricPromptTemplateExamples\n",
        "import pandas as pd\n",
        "\n",
        "from gov_posting_functions import generate_social_post\n",
        "\n",
        "\n",
        "LOCATION = \"us-central1\"\n",
        "vertexai.init(project=PROJECT_ID, location=LOCATION)\n",
        "\n",
        "\n",
        "chat_model = GenerativeModel(\"gemini-2.0-flash-001\")\n",
        "\n",
        "def run_vertex_evaluation(event, prediction, reference):\n",
        "    df = pd.DataFrame([{\n",
        "        \"prompt\": event,\n",
        "        \"reference\": reference,\n",
        "        \"response\": prediction\n",
        "    }])\n",
        "\n",
        "    eval_task = EvalTask(\n",
        "        dataset=df,\n",
        "        metrics=[\n",
        "            MetricPromptTemplateExamples.Pointwise.FLUENCY,\n",
        "            MetricPromptTemplateExamples.Pointwise.SUMMARIZATION_QUALITY,\n",
        "            MetricPromptTemplateExamples.Pointwise.GROUNDEDNESS,\n",
        "            MetricPromptTemplateExamples.Pointwise.VERBOSITY,\n",
        "            MetricPromptTemplateExamples.Pointwise.INSTRUCTION_FOLLOWING,\n",
        "            \"rouge_1\",\n",
        "            \"rouge_2\",\n",
        "            \"rouge_l\",\n",
        "            \"rouge_l_sum\",\n",
        "        ]\n",
        "    )\n",
        "\n",
        "    result = eval_task.evaluate(model=None)\n",
        "    for key, value in result.summary_metrics.items():\n",
        "      print(f\"{key}: \\t{value}\")\n",
        "    score = float(result.metrics_table.loc[0, \"fluency/score\"])\n",
        "    print(f\"Evaluation score for '{event}': {score}\")\n",
        "    return score\n",
        "\n",
        "def test_generate_social_post_city_hall_closure():\n",
        "    event = \"City Hall will be closed on July 4th\"\n",
        "    reference = \"Reminder: City Hall is closed on July 4th in observance of Independence Day 🇺🇸\"\n",
        "    prediction = generate_social_post(event)\n",
        "\n",
        "    score = run_vertex_evaluation(event, prediction, reference)\n",
        "\n",
        "    assert isinstance(prediction, str) and len(prediction) <= 280\n",
        "    assert 1 <= score <= 5\n",
        "    assert score >= 4.0\n",
        "\n",
        "\n",
        "def test_generate_social_post_weather_alert():\n",
        "    event = \"Severe thunderstorm expected in Dallas tomorrow evening\"\n",
        "    reference = \"Severe thunderstorm alert: Dallas residents should stay indoors tomorrow evening.\"\n",
        "    prediction = generate_social_post(event)\n",
        "\n",
        "    score = run_vertex_evaluation(event, prediction, reference)\n",
        "\n",
        "    assert isinstance(prediction, str) and len(prediction) <= 280\n",
        "    assert 1 <= score <= 5\n",
        "    assert score >= 4.0\n",
        "\n",
        "\n",
        "def test_evaluate_poor_quality_post():\n",
        "    event = \"Power outage scheduled for maintenance on Sunday\"\n",
        "    bad_post = \"power. no lights. sunday.\"\n",
        "    reference = \"Scheduled power outage this Sunday for maintenance. Please plan accordingly.\"\n",
        "\n",
        "    score = run_vertex_evaluation(event, bad_post, reference)\n",
        "\n",
        "    assert 1 <= score <= 5\n",
        "    assert score < 4.0\n",
        "\n",
        "\n",
        "test_generate_social_post_city_hall_closure()\n",
        "test_generate_social_post_weather_alert()\n",
        "test_evaluate_poor_quality_post()\n"
      ],
      "metadata": {
        "colab": {
          "base_uri": "https://localhost:8080/",
          "height": 1000
        },
        "id": "Nnpm_h4iOGg_",
        "outputId": "14cd2853-0373-402e-edb4-90817afacd3c"
      },
      "id": "Nnpm_h4iOGg_",
      "execution_count": 110,
      "outputs": [
        {
          "output_type": "stream",
          "name": "stderr",
          "text": [
            "INFO:vertexai.evaluation._evaluation:Computing metrics with a total of 9 Vertex Gen AI Evaluation Service API requests.\n",
            "100%|██████████| 9/9 [00:01<00:00,  8.61it/s]\n",
            "INFO:vertexai.evaluation._evaluation:All 9 metric requests are successfully computed.\n",
            "INFO:vertexai.evaluation._evaluation:Evaluation Took:1.060842547001812 seconds\n"
          ]
        },
        {
          "output_type": "display_data",
          "data": {
            "text/plain": [
              "<IPython.core.display.HTML object>"
            ],
            "text/html": [
              "\n",
              "        \n",
              "    <link rel=\"stylesheet\" href=\"https://fonts.googleapis.com/icon?family=Material+Icons\">\n",
              "    <style>\n",
              "      .view-vertex-resource,\n",
              "      .view-vertex-resource:hover,\n",
              "      .view-vertex-resource:visited {\n",
              "        position: relative;\n",
              "        display: inline-flex;\n",
              "        flex-direction: row;\n",
              "        height: 32px;\n",
              "        padding: 0 12px;\n",
              "          margin: 4px 18px;\n",
              "        gap: 4px;\n",
              "        border-radius: 4px;\n",
              "\n",
              "        align-items: center;\n",
              "        justify-content: center;\n",
              "        background-color: rgb(255, 255, 255);\n",
              "        color: rgb(51, 103, 214);\n",
              "\n",
              "        font-family: Roboto,\"Helvetica Neue\",sans-serif;\n",
              "        font-size: 13px;\n",
              "        font-weight: 500;\n",
              "        text-transform: uppercase;\n",
              "        text-decoration: none !important;\n",
              "\n",
              "        transition: box-shadow 280ms cubic-bezier(0.4, 0, 0.2, 1) 0s;\n",
              "        box-shadow: 0px 3px 1px -2px rgba(0,0,0,0.2), 0px 2px 2px 0px rgba(0,0,0,0.14), 0px 1px 5px 0px rgba(0,0,0,0.12);\n",
              "      }\n",
              "      .view-vertex-resource:active {\n",
              "        box-shadow: 0px 5px 5px -3px rgba(0,0,0,0.2),0px 8px 10px 1px rgba(0,0,0,0.14),0px 3px 14px 2px rgba(0,0,0,0.12);\n",
              "      }\n",
              "      .view-vertex-resource:active .view-vertex-ripple::before {\n",
              "        position: absolute;\n",
              "        top: 0;\n",
              "        bottom: 0;\n",
              "        left: 0;\n",
              "        right: 0;\n",
              "        border-radius: 4px;\n",
              "        pointer-events: none;\n",
              "\n",
              "        content: '';\n",
              "        background-color: rgb(51, 103, 214);\n",
              "        opacity: 0.12;\n",
              "      }\n",
              "      .view-vertex-icon {\n",
              "        font-size: 18px;\n",
              "      }\n",
              "    </style>\n",
              "  \n",
              "        <a class=\"view-vertex-resource\" id=\"view-vertex-resource-87978c33-2eec-4acb-9597-ca4917c1328d\" href=\"#view-view-vertex-resource-87978c33-2eec-4acb-9597-ca4917c1328d\">\n",
              "          <span class=\"material-icons view-vertex-icon\">bar_chart</span>\n",
              "          <span>View evaluation results</span>\n",
              "        </a>\n",
              "        \n",
              "        <script>\n",
              "          (function () {\n",
              "            const link = document.getElementById('view-vertex-resource-87978c33-2eec-4acb-9597-ca4917c1328d');\n",
              "            link.addEventListener('click', (e) => {\n",
              "              if (window.google?.colab?.openUrl) {\n",
              "                window.google.colab.openUrl('https://cloud.google.com/vertex-ai/generative-ai/docs/models/view-evaluation');\n",
              "              } else {\n",
              "                window.open('https://cloud.google.com/vertex-ai/generative-ai/docs/models/view-evaluation', '_blank');\n",
              "              }\n",
              "              e.stopPropagation();\n",
              "              e.preventDefault();\n",
              "            });\n",
              "          })();\n",
              "        </script>\n",
              "    "
            ]
          },
          "metadata": {}
        },
        {
          "output_type": "stream",
          "name": "stdout",
          "text": [
            "row_count: \t1\n",
            "fluency/mean: \t5.0\n",
            "fluency/std: \tnan\n",
            "summarization_quality/mean: \t4.0\n",
            "summarization_quality/std: \tnan\n",
            "groundedness/mean: \t1.0\n",
            "groundedness/std: \tnan\n",
            "verbosity/mean: \t0.0\n",
            "verbosity/std: \tnan\n",
            "instruction_following/mean: \t5.0\n",
            "instruction_following/std: \tnan\n",
            "rouge_1/mean: \t0.6111111\n",
            "rouge_1/std: \tnan\n",
            "rouge_2/mean: \t0.47058824\n",
            "rouge_2/std: \tnan\n",
            "rouge_l/mean: \t0.6111111\n",
            "rouge_l/std: \tnan\n",
            "rouge_l_sum/mean: \t0.6111111\n",
            "rouge_l_sum/std: \tnan\n",
            "Evaluation score for 'City Hall will be closed on July 4th': 5.0\n"
          ]
        },
        {
          "output_type": "stream",
          "name": "stderr",
          "text": [
            "INFO:vertexai.evaluation._evaluation:Computing metrics with a total of 9 Vertex Gen AI Evaluation Service API requests.\n",
            "100%|██████████| 9/9 [00:01<00:00,  8.88it/s]\n",
            "INFO:vertexai.evaluation._evaluation:All 9 metric requests are successfully computed.\n",
            "INFO:vertexai.evaluation._evaluation:Evaluation Took:1.0269343810032296 seconds\n"
          ]
        },
        {
          "output_type": "display_data",
          "data": {
            "text/plain": [
              "<IPython.core.display.HTML object>"
            ],
            "text/html": [
              "\n",
              "        \n",
              "    <link rel=\"stylesheet\" href=\"https://fonts.googleapis.com/icon?family=Material+Icons\">\n",
              "    <style>\n",
              "      .view-vertex-resource,\n",
              "      .view-vertex-resource:hover,\n",
              "      .view-vertex-resource:visited {\n",
              "        position: relative;\n",
              "        display: inline-flex;\n",
              "        flex-direction: row;\n",
              "        height: 32px;\n",
              "        padding: 0 12px;\n",
              "          margin: 4px 18px;\n",
              "        gap: 4px;\n",
              "        border-radius: 4px;\n",
              "\n",
              "        align-items: center;\n",
              "        justify-content: center;\n",
              "        background-color: rgb(255, 255, 255);\n",
              "        color: rgb(51, 103, 214);\n",
              "\n",
              "        font-family: Roboto,\"Helvetica Neue\",sans-serif;\n",
              "        font-size: 13px;\n",
              "        font-weight: 500;\n",
              "        text-transform: uppercase;\n",
              "        text-decoration: none !important;\n",
              "\n",
              "        transition: box-shadow 280ms cubic-bezier(0.4, 0, 0.2, 1) 0s;\n",
              "        box-shadow: 0px 3px 1px -2px rgba(0,0,0,0.2), 0px 2px 2px 0px rgba(0,0,0,0.14), 0px 1px 5px 0px rgba(0,0,0,0.12);\n",
              "      }\n",
              "      .view-vertex-resource:active {\n",
              "        box-shadow: 0px 5px 5px -3px rgba(0,0,0,0.2),0px 8px 10px 1px rgba(0,0,0,0.14),0px 3px 14px 2px rgba(0,0,0,0.12);\n",
              "      }\n",
              "      .view-vertex-resource:active .view-vertex-ripple::before {\n",
              "        position: absolute;\n",
              "        top: 0;\n",
              "        bottom: 0;\n",
              "        left: 0;\n",
              "        right: 0;\n",
              "        border-radius: 4px;\n",
              "        pointer-events: none;\n",
              "\n",
              "        content: '';\n",
              "        background-color: rgb(51, 103, 214);\n",
              "        opacity: 0.12;\n",
              "      }\n",
              "      .view-vertex-icon {\n",
              "        font-size: 18px;\n",
              "      }\n",
              "    </style>\n",
              "  \n",
              "        <a class=\"view-vertex-resource\" id=\"view-vertex-resource-6517905f-ea2a-4bb2-ae18-4c2a7462c46b\" href=\"#view-view-vertex-resource-6517905f-ea2a-4bb2-ae18-4c2a7462c46b\">\n",
              "          <span class=\"material-icons view-vertex-icon\">bar_chart</span>\n",
              "          <span>View evaluation results</span>\n",
              "        </a>\n",
              "        \n",
              "        <script>\n",
              "          (function () {\n",
              "            const link = document.getElementById('view-vertex-resource-6517905f-ea2a-4bb2-ae18-4c2a7462c46b');\n",
              "            link.addEventListener('click', (e) => {\n",
              "              if (window.google?.colab?.openUrl) {\n",
              "                window.google.colab.openUrl('https://cloud.google.com/vertex-ai/generative-ai/docs/models/view-evaluation');\n",
              "              } else {\n",
              "                window.open('https://cloud.google.com/vertex-ai/generative-ai/docs/models/view-evaluation', '_blank');\n",
              "              }\n",
              "              e.stopPropagation();\n",
              "              e.preventDefault();\n",
              "            });\n",
              "          })();\n",
              "        </script>\n",
              "    "
            ]
          },
          "metadata": {}
        },
        {
          "output_type": "stream",
          "name": "stderr",
          "text": [
            "INFO:vertexai.evaluation._evaluation:Computing metrics with a total of 9 Vertex Gen AI Evaluation Service API requests.\n"
          ]
        },
        {
          "output_type": "stream",
          "name": "stdout",
          "text": [
            "row_count: \t1\n",
            "fluency/mean: \t5.0\n",
            "fluency/std: \tnan\n",
            "summarization_quality/mean: \t4.0\n",
            "summarization_quality/std: \tnan\n",
            "groundedness/mean: \t1.0\n",
            "groundedness/std: \tnan\n",
            "verbosity/mean: \t0.0\n",
            "verbosity/std: \tnan\n",
            "instruction_following/mean: \t5.0\n",
            "instruction_following/std: \tnan\n",
            "rouge_1/mean: \t0.375\n",
            "rouge_1/std: \tnan\n",
            "rouge_2/mean: \t0.13333334\n",
            "rouge_2/std: \tnan\n",
            "rouge_l/mean: \t0.25\n",
            "rouge_l/std: \tnan\n",
            "rouge_l_sum/mean: \t0.25\n",
            "rouge_l_sum/std: \tnan\n",
            "Evaluation score for 'Severe thunderstorm expected in Dallas tomorrow evening': 5.0\n"
          ]
        },
        {
          "output_type": "stream",
          "name": "stderr",
          "text": [
            "100%|██████████| 9/9 [00:01<00:00,  7.79it/s]\n",
            "INFO:vertexai.evaluation._evaluation:All 9 metric requests are successfully computed.\n",
            "INFO:vertexai.evaluation._evaluation:Evaluation Took:1.1756987430017034 seconds\n"
          ]
        },
        {
          "output_type": "display_data",
          "data": {
            "text/plain": [
              "<IPython.core.display.HTML object>"
            ],
            "text/html": [
              "\n",
              "        \n",
              "    <link rel=\"stylesheet\" href=\"https://fonts.googleapis.com/icon?family=Material+Icons\">\n",
              "    <style>\n",
              "      .view-vertex-resource,\n",
              "      .view-vertex-resource:hover,\n",
              "      .view-vertex-resource:visited {\n",
              "        position: relative;\n",
              "        display: inline-flex;\n",
              "        flex-direction: row;\n",
              "        height: 32px;\n",
              "        padding: 0 12px;\n",
              "          margin: 4px 18px;\n",
              "        gap: 4px;\n",
              "        border-radius: 4px;\n",
              "\n",
              "        align-items: center;\n",
              "        justify-content: center;\n",
              "        background-color: rgb(255, 255, 255);\n",
              "        color: rgb(51, 103, 214);\n",
              "\n",
              "        font-family: Roboto,\"Helvetica Neue\",sans-serif;\n",
              "        font-size: 13px;\n",
              "        font-weight: 500;\n",
              "        text-transform: uppercase;\n",
              "        text-decoration: none !important;\n",
              "\n",
              "        transition: box-shadow 280ms cubic-bezier(0.4, 0, 0.2, 1) 0s;\n",
              "        box-shadow: 0px 3px 1px -2px rgba(0,0,0,0.2), 0px 2px 2px 0px rgba(0,0,0,0.14), 0px 1px 5px 0px rgba(0,0,0,0.12);\n",
              "      }\n",
              "      .view-vertex-resource:active {\n",
              "        box-shadow: 0px 5px 5px -3px rgba(0,0,0,0.2),0px 8px 10px 1px rgba(0,0,0,0.14),0px 3px 14px 2px rgba(0,0,0,0.12);\n",
              "      }\n",
              "      .view-vertex-resource:active .view-vertex-ripple::before {\n",
              "        position: absolute;\n",
              "        top: 0;\n",
              "        bottom: 0;\n",
              "        left: 0;\n",
              "        right: 0;\n",
              "        border-radius: 4px;\n",
              "        pointer-events: none;\n",
              "\n",
              "        content: '';\n",
              "        background-color: rgb(51, 103, 214);\n",
              "        opacity: 0.12;\n",
              "      }\n",
              "      .view-vertex-icon {\n",
              "        font-size: 18px;\n",
              "      }\n",
              "    </style>\n",
              "  \n",
              "        <a class=\"view-vertex-resource\" id=\"view-vertex-resource-acff37f3-e415-492e-8f8a-fe2361fa555d\" href=\"#view-view-vertex-resource-acff37f3-e415-492e-8f8a-fe2361fa555d\">\n",
              "          <span class=\"material-icons view-vertex-icon\">bar_chart</span>\n",
              "          <span>View evaluation results</span>\n",
              "        </a>\n",
              "        \n",
              "        <script>\n",
              "          (function () {\n",
              "            const link = document.getElementById('view-vertex-resource-acff37f3-e415-492e-8f8a-fe2361fa555d');\n",
              "            link.addEventListener('click', (e) => {\n",
              "              if (window.google?.colab?.openUrl) {\n",
              "                window.google.colab.openUrl('https://cloud.google.com/vertex-ai/generative-ai/docs/models/view-evaluation');\n",
              "              } else {\n",
              "                window.open('https://cloud.google.com/vertex-ai/generative-ai/docs/models/view-evaluation', '_blank');\n",
              "              }\n",
              "              e.stopPropagation();\n",
              "              e.preventDefault();\n",
              "            });\n",
              "          })();\n",
              "        </script>\n",
              "    "
            ]
          },
          "metadata": {}
        },
        {
          "output_type": "stream",
          "name": "stdout",
          "text": [
            "row_count: \t1\n",
            "fluency/mean: \t1.0\n",
            "fluency/std: \tnan\n",
            "summarization_quality/mean: \t4.0\n",
            "summarization_quality/std: \tnan\n",
            "groundedness/mean: \t1.0\n",
            "groundedness/std: \tnan\n",
            "verbosity/mean: \t-2.0\n",
            "verbosity/std: \tnan\n",
            "instruction_following/mean: \t1.0\n",
            "instruction_following/std: \tnan\n",
            "rouge_1/mean: \t0.2857143\n",
            "rouge_1/std: \tnan\n",
            "rouge_2/mean: \t0.0\n",
            "rouge_2/std: \tnan\n",
            "rouge_l/mean: \t0.2857143\n",
            "rouge_l/std: \tnan\n",
            "rouge_l_sum/mean: \t0.2857143\n",
            "rouge_l_sum/std: \tnan\n",
            "Evaluation score for 'Power outage scheduled for maintenance on Sunday': 1.0\n"
          ]
        }
      ]
    }
  ],
  "metadata": {
    "kernelspec": {
      "display_name": "Python 3",
      "language": "python",
      "name": "python3"
    },
    "language_info": {
      "codemirror_mode": {
        "name": "ipython",
        "version": 3
      },
      "file_extension": ".py",
      "mimetype": "text/x-python",
      "name": "python",
      "nbconvert_exporter": "python",
      "pygments_lexer": "ipython3",
      "version": "3.10.10"
    },
    "colab": {
      "provenance": [],
      "name": "student-01-35678b206598 (Jun 16, 2025, 2:24:15 PM)"
    }
  },
  "nbformat": 4,
  "nbformat_minor": 5
}