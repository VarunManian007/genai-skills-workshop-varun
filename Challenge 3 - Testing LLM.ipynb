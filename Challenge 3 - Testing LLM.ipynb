{
  "cells": [
    {
      "cell_type": "markdown",
      "id": "U_A1AHjY8oSO",
      "metadata": {
        "id": "U_A1AHjY8oSO"
      },
      "source": [
        "## Install required dependency and SDK"
      ]
    },
    {
      "cell_type": "code",
      "execution_count": 54,
      "id": "v29ssGoIzhQOXt86azCI1pPD",
      "metadata": {
        "id": "v29ssGoIzhQOXt86azCI1pPD",
        "tags": []
      },
      "outputs": [],
      "source": [
        "!pip install -q google-cloud-aiplatform pytest"
      ]
    },
    {
      "cell_type": "markdown",
      "id": "07bwDSRW9AID",
      "metadata": {
        "id": "07bwDSRW9AID"
      },
      "source": [
        "## Create the environment for the notebook\n",
        "Import Dependencies and Initialize Vertex AI"
      ]
    },
    {
      "cell_type": "code",
      "execution_count": null,
      "id": "HHkYm7Ir83rr",
      "metadata": {
        "id": "HHkYm7Ir83rr"
      },
      "outputs": [],
      "source": [
        "from vertexai.language_models import ChatModel, InputOutputTextPair\n",
        "from vertexai.preview.language_models import TextGenerationModel\n",
        "import vertexai\n",
        "\n",
        "PROJECT_ID = \"qwiklabs-gcp-04-d9bb68112d04\"\n",
        "LOCATION = \"global\"\n",
        "\n",
        "vertexai.init(project=PROJECT_ID, location=LOCATION)"
      ]
    },
    {
      "cell_type": "markdown",
      "id": "7_p79BT-J_rE",
      "metadata": {
        "id": "7_p79BT-J_rE"
      },
      "source": [
        "## Function 1: Classify the Topic\n",
        "\n",
        "1. Created a function which will classify the message based on the following category\n",
        "  1. Employment\n",
        "  2. General Information\n",
        "  3. Emergency Services\n",
        "  4. Tax Related\n",
        "  5. Non-Government Questions"
      ]
    },
    {
      "cell_type": "code",
      "execution_count": 56,
      "id": "09EIRK7H-f5o",
      "metadata": {
        "colab": {
          "base_uri": "https://localhost:8080/"
        },
        "id": "09EIRK7H-f5o",
        "outputId": "8d98bc1d-9704-429a-a251-18957dea6260"
      },
      "outputs": [
        {
          "name": "stdout",
          "output_type": "stream",
          "text": [
            "Overwriting gov_functions.py\n"
          ]
        }
      ],
      "source": [
        "%%writefile gov_functions.py\n",
        "from vertexai.preview.generative_models import GenerativeModel\n",
        "chat_model = GenerativeModel(\"gemini-2.0-flash-001\")\n",
        "\n",
        "def classify_government_message(question: str) -> str:\n",
        "    prompt = f\"\"\"You are an AI assistant trained to classify questions related to **government services** into one of the following categories:\n",
        "\n",
        "      - Employment\n",
        "      - General Information\n",
        "      - Emergency Services\n",
        "      - Tax Related\n",
        "\n",
        "      If the question is not about a government-related topic, respond with: **Non-Government questions**\n",
        "\n",
        "      Respond **only with one of the following**: \"Employment\", \"General Information\", \"Emergency Services\", \"Tax Related\", or \"Non-Government questions\".\n",
        "\n",
        "      Question: {question}\"\"\"\n",
        "\n",
        "    response = chat_model.generate_content(prompt)\n",
        "    return response.text.strip()"
      ]
    },
    {
      "cell_type": "markdown",
      "id": "II2qCj9wKeqG",
      "metadata": {
        "id": "II2qCj9wKeqG"
      },
      "source": [
        "# Test case for Classify the Topic -  Function 1"
      ]
    },
    {
      "cell_type": "code",
      "execution_count": 57,
      "id": "wYsfhiw4AyIB",
      "metadata": {
        "colab": {
          "base_uri": "https://localhost:8080/"
        },
        "id": "wYsfhiw4AyIB",
        "outputId": "d16788e7-a165-44d9-f7d0-fb571672f1c1"
      },
      "outputs": [
        {
          "name": "stdout",
          "output_type": "stream",
          "text": [
            "test_employment passed.\n",
            "test_emergency_services passed.\n",
            "test_tax_related passed.\n",
            "test_general_information passed.\n",
            "test_non_government passed.\n"
          ]
        }
      ],
      "source": [
        "import pytest\n",
        "from gov_functions import classify_government_message\n",
        "\n",
        "def test_employment():\n",
        "    response = classify_government_message(\"How can I apply for a job in the public sector?\")\n",
        "    assert response == \"Employment\"\n",
        "    print(\"test_employment passed.\")\n",
        "\n",
        "def test_emergency_services():\n",
        "    response = classify_government_message(\"There's a fire in my neighborhood. What do I do?\")\n",
        "    assert response == \"Emergency Services\"\n",
        "    print(\"test_emergency_services passed.\")\n",
        "\n",
        "def test_tax_related():\n",
        "    response = classify_government_message(\"When do I need to file my income taxes?\")\n",
        "    assert response == \"Tax Related\"\n",
        "    print(\"test_tax_related passed.\")\n",
        "\n",
        "def test_general_information():\n",
        "    response = classify_government_message(\"Where is my nearest DMV office?\")\n",
        "    assert response == \"General Information\"\n",
        "    print(\"test_general_information passed.\")\n",
        "\n",
        "def test_non_government():\n",
        "    response = classify_government_message(\"What’s the best laptop under $1000?\")\n",
        "    assert response == \"Non-Government questions\"\n",
        "    print(\"test_non_government passed.\")\n",
        "\n",
        "test_employment()\n",
        "test_emergency_services()\n",
        "test_tax_related()\n",
        "test_general_information()\n",
        "test_non_government()\n"
      ]
    },
    {
      "cell_type": "markdown",
      "id": "oAgpZ02CKsiS",
      "metadata": {
        "id": "oAgpZ02CKsiS"
      },
      "source": [
        "## Function 2: Create a Government Post\n",
        "\n",
        "1. generate_social_post - will generate a post based on the event specified.\n",
        "2. evaluate_generated_post - will give score for the generated post and the reference provided(dataset) between 1-5."
      ]
    },
    {
      "cell_type": "code",
      "execution_count": 58,
      "id": "2BTKYCY6CzNC",
      "metadata": {
        "colab": {
          "base_uri": "https://localhost:8080/"
        },
        "id": "2BTKYCY6CzNC",
        "outputId": "f3b8ce18-c724-4179-9680-54d39ca5b2f2"
      },
      "outputs": [
        {
          "name": "stdout",
          "output_type": "stream",
          "text": [
            "Overwriting gov_posting_functions.py\n"
          ]
        }
      ],
      "source": [
        "%%writefile gov_posting_functions.py\n",
        "from vertexai.preview.generative_models import GenerativeModel\n",
        "\n",
        "# Load Gemini model once\n",
        "chat_model = GenerativeModel(\"gemini-2.0-flash-001\")\n",
        "\n",
        "def generate_social_post(event: str) -> str:\n",
        "    prompt = f\"\"\"\n",
        "    You are a helpful government assistant. Write a short, friendly, informative social media post (under 280 characters) about this announcement:\n",
        "    Event: {event}\n",
        "    \"\"\"\n",
        "    response = chat_model.generate_content(prompt)\n",
        "    return response.text.strip()\n",
        "\n",
        "def evaluate_generated_post(event: str, generated: str, reference: str) -> str:\n",
        "    prompt = f\"\"\"\n",
        "    You are an impartial evaluator.\n",
        "\n",
        "    Event: {event}\n",
        "\n",
        "    Generated Post:\n",
        "    {generated}\n",
        "\n",
        "    Reference Post:\n",
        "    {reference}\n",
        "\n",
        "    Rate the generated post on a scale of 1 to 5 for clarity, relevance, tone, and informativeness.\n",
        "    Just return the number only.\n",
        "    \"\"\"\n",
        "    response = chat_model.generate_content(prompt)\n",
        "    return response.text.strip()\n"
      ]
    },
    {
      "cell_type": "markdown",
      "id": "ZZAi76m0LLdQ",
      "metadata": {
        "id": "ZZAi76m0LLdQ"
      },
      "source": [
        "# Test case for Create a Government Post  -  Function 2\n",
        "\n",
        "1. Here I have used Google Evaluation API to verify the LLM generated response score with the refernce one and how suitable the reference is"
      ]
    },
    {
      "cell_type": "code",
      "execution_count": 59,
      "id": "zW0HsLMUC8L-",
      "metadata": {
        "colab": {
          "base_uri": "https://localhost:8080/"
        },
        "id": "zW0HsLMUC8L-",
        "outputId": "e9035a63-613a-4610-e507-8d4d40994cab"
      },
      "outputs": [
        {
          "name": "stdout",
          "output_type": "stream",
          "text": [
            "Generated: Happy 4th of July! 🇺🇸 City Hall will be closed on July 4th to celebrate Independence Day. Have a safe and fun holiday!\n",
            "LLM-Evaluated Score: 4\n",
            "Generated: Heads up, Dallas! ⛈️ A severe thunderstorm is expected tomorrow evening. Stay safe, monitor local news for updates, and have a plan! #DallasWeather #SevereWeather #StaySafe\n",
            "LLM-Evaluated Score: 4\n",
            "Bad Post: power. no lights. sunday.\n",
            "LLM-Evaluated Score: 2\n"
          ]
        }
      ],
      "source": [
        "import pytest\n",
        "from gov_posting_functions import generate_social_post, evaluate_generated_post\n",
        "\n",
        "def test_generate_social_post_with_evaluation():\n",
        "    event = \"City Hall will be closed on July 4th\"\n",
        "    reference_post = \"Reminder: City Hall will be closed on July 4th in observance of Independence Day\"\n",
        "\n",
        "    generated_post = generate_social_post(event)\n",
        "    print(\"Generated:\", generated_post)\n",
        "\n",
        "    score = evaluate_generated_post(event, generated_post, reference_post)\n",
        "    print(\"LLM-Evaluated Score:\", score)\n",
        "\n",
        "    assert generated_post is not None\n",
        "    assert isinstance(generated_post, str)\n",
        "    assert len(generated_post) <= 280\n",
        "\n",
        "    assert score.isdigit()\n",
        "    assert 1 <= int(score) <= 5\n",
        "    assert int(score) >= 4\n",
        "\n",
        "def test_generate_social_post_weather_alert():\n",
        "    event = \"Severe thunderstorm expected in Dallas tomorrow evening\"\n",
        "    reference_post = \"Severe thunderstorm alert: Dallas residents should stay indoors tomorrow evening.\"\n",
        "\n",
        "    generated_post = generate_social_post(event)\n",
        "    print(\"Generated:\", generated_post)\n",
        "\n",
        "    score = evaluate_generated_post(event, generated_post, reference_post)\n",
        "    print(\"LLM-Evaluated Score:\", score)\n",
        "\n",
        "    assert generated_post is not None\n",
        "    assert isinstance(generated_post, str)\n",
        "    assert len(generated_post) <= 280\n",
        "    assert score.isdigit()\n",
        "    assert 1 <= int(score) <= 5\n",
        "    assert int(score) >= 4\n",
        "\n",
        "\n",
        "def test_evaluate_poor_quality_post():\n",
        "    event = \"Power outage scheduled for maintenance on Sunday\"\n",
        "    bad_post = \"power. no lights. sunday.\"\n",
        "    reference_post = \"Scheduled power outage this Sunday for maintenance. Please plan accordingly.\"\n",
        "\n",
        "    score = evaluate_generated_post(event, bad_post, reference_post)\n",
        "    print(\"Bad Post:\", bad_post)\n",
        "    print(\"LLM-Evaluated Score:\", score)\n",
        "\n",
        "    assert score.isdigit()\n",
        "    score_int = int(score)\n",
        "    assert 1 <= score_int <= 5\n",
        "    assert score_int < 4\n",
        "\n",
        "test_generate_social_post_with_evaluation()\n",
        "test_generate_social_post_weather_alert()\n",
        "test_evaluate_poor_quality_post()\n"
      ]
    }
  ],
  "metadata": {
    "colab": {
      "name": "student-01-35678b206598 (Jun 16, 2025, 2:24:15 PM)",
      "provenance": []
    },
    "kernelspec": {
      "display_name": "Python 3",
      "language": "python",
      "name": "python3"
    },
    "language_info": {
      "codemirror_mode": {
        "name": "ipython",
        "version": 3
      },
      "file_extension": ".py",
      "mimetype": "text/x-python",
      "name": "python",
      "nbconvert_exporter": "python",
      "pygments_lexer": "ipython3",
      "version": "3.10.10"
    }
  },
  "nbformat": 4,
  "nbformat_minor": 5
}
